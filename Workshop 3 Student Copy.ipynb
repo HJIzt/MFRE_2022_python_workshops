{
  "cells": [
    {
      "cell_type": "markdown",
      "metadata": {
        "id": "POkrqmgRqgHE"
      },
      "source": [
        "# **MFRE Data Analytics Workshop 3 - Python I**\n",
        "\n",
        "[Student Name]\n",
        "\n",
        "November 8, 2021"
      ]
    },
    {
      "cell_type": "markdown",
      "metadata": {
        "id": "s303NHH3q1Og"
      },
      "source": [
        "## Try it out"
      ]
    },
    {
      "cell_type": "code",
      "source": [
        "# run this cell with Ctrl + Enter\n",
        "\n",
        "print(\"MFRE!\")"
      ],
      "metadata": {
        "colab": {
          "base_uri": "https://localhost:8080/"
        },
        "id": "pZj32kUHfN0M",
        "outputId": "b119fb64-398d-471a-f05a-1aa70a4059d9"
      },
      "execution_count": 1,
      "outputs": [
        {
          "output_type": "stream",
          "name": "stdout",
          "text": [
            "MFRE!\n"
          ]
        }
      ]
    },
    {
      "cell_type": "code",
      "source": [
        "# run this cell with Shift + Enter\n",
        "# it will automatically move you to the next\n",
        "print(\"Python!\")"
      ],
      "metadata": {
        "colab": {
          "base_uri": "https://localhost:8080/"
        },
        "id": "L44L9RUGfSzJ",
        "outputId": "b6d6690c-3ff0-4293-c157-e63bf961fb2e"
      },
      "execution_count": 2,
      "outputs": [
        {
          "output_type": "stream",
          "name": "stdout",
          "text": [
            "Python!\n"
          ]
        }
      ]
    },
    {
      "cell_type": "code",
      "source": [
        "# comment this terrible code out with Ctrl + /\n",
        "def bad_function(variable_2):"
      ],
      "metadata": {
        "id": "tuWTUHvOfo_E"
      },
      "execution_count": 4,
      "outputs": []
    },
    {
      "cell_type": "code",
      "execution_count": null,
      "metadata": {
        "id": "5foGBnbrmz6G",
        "outputId": "066218ac-6a2e-4c57-a8ac-f6d38cf92819"
      },
      "outputs": [
        {
          "name": "stdout",
          "output_type": "stream",
          "text": [
            "4\n"
          ]
        }
      ],
      "source": [
        "# print out the sum of 2 + 2\n"
      ]
    },
    {
      "cell_type": "code",
      "execution_count": null,
      "metadata": {
        "id": "qzo7pyYtr7LI",
        "outputId": "89f331a7-4e52-4efb-cb5c-45d5136391b7"
      },
      "outputs": [
        {
          "name": "stdout",
          "output_type": "stream",
          "text": [
            "Hello World!\n"
          ]
        }
      ],
      "source": [
        "# print \"Hello World\"\n"
      ]
    },
    {
      "cell_type": "markdown",
      "metadata": {
        "id": "pTTy1kduq3VD"
      },
      "source": [
        "Strings, integers, and floats"
      ]
    },
    {
      "cell_type": "code",
      "execution_count": null,
      "metadata": {
        "id": "FbHH5a4bq65G",
        "outputId": "e3cfeb0a-7f37-45e3-a54f-ab6b055544ba"
      },
      "outputs": [
        {
          "name": "stdout",
          "output_type": "stream",
          "text": [
            "42\n",
            "Data Carpentry\n"
          ]
        }
      ],
      "source": [
        "# assign \"Data Carpentry\" to the object text\n",
        "# text = insert_code_here\n",
        "\n",
        "text = \n",
        "\n",
        "# assign 42 to the object number\n",
        "# insert_code_here\n",
        "\n",
        "number = \n",
        "\n",
        "# assign 3.1415 to the object pi_value\n",
        "# insert_code_here\n",
        "\n",
        "pi_value = \n",
        "\n",
        "# print text\n",
        "# use print() to print the value of number\n",
        "# use print() to print the value of text\n",
        "\n",
        "print()\n",
        "print()"
      ]
    },
    {
      "cell_type": "code",
      "source": [
        "# take the types of all variables created above\n",
        "\n",
        "\n"
      ],
      "metadata": {
        "id": "WkaOwRtJgdSm"
      },
      "execution_count": null,
      "outputs": []
    },
    {
      "cell_type": "markdown",
      "metadata": {
        "id": "B_Rb7lAwQ0m7"
      },
      "source": [
        "Operators"
      ]
    },
    {
      "cell_type": "code",
      "execution_count": null,
      "metadata": {
        "id": "rmJ4CGZ0Q4ny",
        "outputId": "d141de00-8448-4736-88b4-d2b71a32cfa2"
      },
      "outputs": [
        {
          "name": "stdout",
          "output_type": "stream",
          "text": [
            "Addition:\n",
            "45.1415\n",
            "Subtraction:\n",
            "38.8585\n",
            "Multiplication\n",
            "131.943\n",
            "Exponent\n",
            "125729.63239744678\n",
            "7.581527073710295e+20\n",
            "Modulo\n",
            "1.1604999999999976\n",
            "3.1415\n",
            "Division\n",
            "13.369409517746298\n",
            "0.07479761904761906\n"
          ]
        }
      ],
      "source": [
        "# Addition: +\n",
        "# insert_code_here\n",
        "print(\"Addition:\")\n",
        "addition = \n",
        "print()\n",
        "\n",
        "# Subtraction: -\n",
        "# insert_code_here\n",
        "print(\"Subtraction:\")\n",
        "subtraction = \n",
        "print()\n",
        "\n",
        "\n",
        "# Multiplication: *\n",
        "# insert_code_here\n",
        "print(\"Multiplication\")\n",
        "multiplication = \n",
        "print()\n",
        "\n",
        "# Power: **\n",
        "# insert_code_here\n",
        "print(\"Exponent\")\n",
        "power_1 = \n",
        "power_2 = \n",
        "print()\n",
        "print()\n",
        "\n",
        "# Modulo: %\n",
        "# insert_code_here\n",
        "print(\"Modulo\")\n",
        "modulo_1 = \n",
        "modulo_2 = \n",
        "print()\n",
        "print()\n",
        "\n",
        "# Division: /\n",
        "# insert_code_here\n",
        "print(\"Division\")\n",
        "division_1 = \n",
        "division_2 = \n",
        "print()\n",
        "print() \n"
      ]
    },
    {
      "cell_type": "markdown",
      "metadata": {
        "id": "yU5P7PkqRMY-"
      },
      "source": [
        "Logic Operators"
      ]
    },
    {
      "cell_type": "code",
      "execution_count": null,
      "metadata": {
        "id": "yDP_Y94ERJ57",
        "outputId": "83e13bfc-26cb-4335-92e0-ba3aaaf49c70"
      },
      "outputs": [
        {
          "name": "stdout",
          "output_type": "stream",
          "text": [
            "False\n",
            "True\n",
            "False\n",
            "True\n",
            "False\n",
            "True\n"
          ]
        }
      ],
      "source": [
        "# Examples: <, >, ==, !=, <=, >= \n",
        "\n",
        "# insert_code_here test if number < pi_value\n",
        "# insert_code_here test if number > pi_value\n",
        "# insert_code_here test if number == pi_value\n",
        "# insert_code_here test if number != pi_value\n",
        "# insert_code_here test if number <= pi_value\n",
        "# insert_code_here test if number >= pi_value\n",
        "print()\n",
        "print()\n",
        "print()\n",
        "print()\n",
        "print()\n",
        "print()"
      ]
    },
    {
      "cell_type": "markdown",
      "metadata": {
        "id": "RGNbdVN5RZLz"
      },
      "source": [
        "## Lists \n",
        "- one of the most fundamental data structures in Python\n",
        "- build lists using square brackets"
      ]
    },
    {
      "cell_type": "code",
      "execution_count": null,
      "metadata": {
        "id": "CW17EIF8Rgrz",
        "outputId": "178e338c-5940-44f5-9246-3aff83dfcc97"
      },
      "outputs": [
        {
          "name": "stdout",
          "output_type": "stream",
          "text": [
            "['canada', 'usa', 'china', 'japan']\n",
            "4\n"
          ]
        }
      ],
      "source": [
        "# country = insert_code_here\n",
        "country = [\"canada\", \"usa\", \"china\", \"japan\"]\n",
        "\n",
        "# gdp = insert_code_here\n",
        "gdp = [44100, 55700, 16200, 39300]\n",
        "\n",
        "# carbon = insert_code_here\n",
        "carbon = [15.3, 16.6, 7.06, 9.14]\n",
        "\n",
        "# print country list\n",
        "# print length of country list\n",
        "# insert_code_here\n",
        "print(country)\n",
        "print(len(country))"
      ]
    },
    {
      "cell_type": "code",
      "execution_count": null,
      "metadata": {
        "id": "VzNFV-C6RuQC",
        "outputId": "1d940c9f-4aaf-4646-e515-c3c3d3328144"
      },
      "outputs": [
        {
          "name": "stdout",
          "output_type": "stream",
          "text": [
            "<class 'list'>\n",
            "<class 'str'>\n"
          ]
        },
        {
          "data": {
            "text/plain": [
              "4"
            ]
          },
          "execution_count": 52,
          "metadata": {},
          "output_type": "execute_result"
        }
      ],
      "source": [
        "# check type of country variable\n",
        "# check type of country variable entry indexed to 1\n",
        "# insert_code_here\n",
        "\n",
        "print()\n",
        "print()\n",
        "\n",
        "# check length of country variable\n",
        "# check length of country variable entry indexed to 1\n",
        "# insert_code_here\n",
        "len()"
      ]
    },
    {
      "cell_type": "markdown",
      "metadata": {
        "id": "THWgeVlRSDQx"
      },
      "source": [
        "Lists can also contain different data type, including lists. "
      ]
    },
    {
      "cell_type": "code",
      "execution_count": 5,
      "metadata": {
        "id": "GGavR2HuSHva",
        "colab": {
          "base_uri": "https://localhost:8080/"
        },
        "outputId": "01cf43df-5d62-4561-c1c5-afba30322718"
      },
      "outputs": [
        {
          "output_type": "stream",
          "name": "stdout",
          "text": [
            "['canada', 15.3, 'usa', 16.6, 'china', 7.06, 'japan', 9.14]\n",
            "[['canada', 15.3], ['usa', 16.6], ['china', 7.06], ['japan', 9.14]]\n",
            "length of example1:  8\n",
            "length of example2:  4\n"
          ]
        }
      ],
      "source": [
        "# create \n",
        "# example1 = insert_code_here\n",
        "example_1 =[\"canada\", 15.3, \"usa\", 16.6, \"china\", 7.06, \"japan\", 9.14]\n",
        "\n",
        "# example2 = insert_code_here\n",
        "example_2 = [\n",
        "                [\"canada\", 15.3],\n",
        "                [\"usa\", 16.6],\n",
        "                [\"china\", 7.06],\n",
        "                [\"japan\", 9.14]]\n",
        "\n",
        "            \n",
        "# print example1\n",
        "# insert_code_here\n",
        "print(example_1)\n",
        "\n",
        "# print example2\n",
        "# insert_code_here\n",
        "print(example_2)\n",
        "\n",
        "# print \"length of example1: [value]\"\n",
        "# print(\"length of example2: \", insert_code_here)\n",
        "print(\"length of example1: \", )\n",
        "print(\"length of example2: \", )"
      ]
    },
    {
      "cell_type": "markdown",
      "metadata": {
        "id": "lMqYWQ5QmNXr"
      },
      "source": [
        "Each element in a list can be accessed by an index. "
      ]
    },
    {
      "cell_type": "code",
      "execution_count": null,
      "metadata": {
        "id": "WNNTRVUASCa5",
        "outputId": "11f17e38-2823-4ac9-eaef-b84e916df580"
      },
      "outputs": [
        {
          "name": "stdout",
          "output_type": "stream",
          "text": [
            "China's carbon emissions per capita are: 7.06\n"
          ]
        },
        {
          "ename": "IndexError",
          "evalue": "list index out of range",
          "output_type": "error",
          "traceback": [
            "\u001b[1;31m---------------------------------------------------------------------------\u001b[0m",
            "\u001b[1;31mIndexError\u001b[0m                                Traceback (most recent call last)",
            "Cell \u001b[1;32mIn [20], line 8\u001b[0m\n\u001b[0;32m      4\u001b[0m \u001b[39mprint\u001b[39m(\u001b[39m\"\u001b[39m\u001b[39mChina\u001b[39m\u001b[39m'\u001b[39m\u001b[39ms carbon emissions per capita are: \u001b[39m\u001b[39m\"\u001b[39m \u001b[39m+\u001b[39m \u001b[39mstr\u001b[39m(example_1[\u001b[39m5\u001b[39m]))\n\u001b[0;32m      6\u001b[0m \u001b[39m# print Japan's carbon emissions using data from example2\u001b[39;00m\n\u001b[0;32m      7\u001b[0m \u001b[39m# insert_code_here\u001b[39;00m\n\u001b[1;32m----> 8\u001b[0m \u001b[39mprint\u001b[39m(\u001b[39m\"\u001b[39m\u001b[39mJapan\u001b[39m\u001b[39m'\u001b[39m\u001b[39ms\u001b[39m\u001b[39m'\u001b[39m\u001b[39ms carbon emissions per capita are: \u001b[39m\u001b[39m\"\u001b[39m \u001b[39m+\u001b[39m \u001b[39mstr\u001b[39m(example_2[\u001b[39m7\u001b[39;49m]))\n",
            "\u001b[1;31mIndexError\u001b[0m: list index out of range"
          ]
        }
      ],
      "source": [
        "# print China's carbon emissions using data from example1\n",
        "# wrap the value in str() so that it can go in the print() function!\n",
        "# insert_code_here\n",
        "print(\"China's carbon emissions per capita are: \" + str(example_1[?]))\n",
        "\n",
        "# print Japan's carbon emissions using data from example2\n",
        "# insert_code_here\n",
        "print(\"Japan's's carbon emissions per capita are: \" + str(example_2[?][?]))\n",
        "\n"
      ]
    },
    {
      "cell_type": "markdown",
      "metadata": {
        "id": "4tcNjVDdmr9t"
      },
      "source": [
        "Slicing lists `[start_index:end_index]`\n",
        "\n",
        "When you slice a list, it will access the element at `start_index`, but stop just before the element at `end_index`."
      ]
    },
    {
      "cell_type": "code",
      "execution_count": 6,
      "metadata": {
        "colab": {
          "base_uri": "https://localhost:8080/",
          "height": 166
        },
        "id": "TfidG_jleqHe",
        "outputId": "648b242a-4fe9-4047-92c7-1969787e238e"
      },
      "outputs": [
        {
          "output_type": "error",
          "ename": "NameError",
          "evalue": "ignored",
          "traceback": [
            "\u001b[0;31m---------------------------------------------------------------------------\u001b[0m",
            "\u001b[0;31mNameError\u001b[0m                                 Traceback (most recent call last)",
            "\u001b[0;32m<ipython-input-6-e1a04519cff7>\u001b[0m in \u001b[0;36m<module>\u001b[0;34m\u001b[0m\n\u001b[0;32m----> 1\u001b[0;31m \u001b[0mcountry\u001b[0m\u001b[0;34m\u001b[0m\u001b[0;34m\u001b[0m\u001b[0m\n\u001b[0m",
            "\u001b[0;31mNameError\u001b[0m: name 'country' is not defined"
          ]
        }
      ],
      "source": [
        "country"
      ]
    },
    {
      "cell_type": "code",
      "execution_count": 7,
      "metadata": {
        "colab": {
          "base_uri": "https://localhost:8080/"
        },
        "id": "IGk56wQteqHe",
        "outputId": "a5de4ce1-2d90-4313-e1cf-3947bc15086e"
      },
      "outputs": [
        {
          "output_type": "execute_result",
          "data": {
            "text/plain": [
              "['canada', 15.3, 'usa', 16.6, 'china', 7.06, 'japan', 9.14]"
            ]
          },
          "metadata": {},
          "execution_count": 7
        }
      ],
      "source": [
        "example_1"
      ]
    },
    {
      "cell_type": "code",
      "execution_count": 9,
      "metadata": {
        "id": "Mz318DlnRYpF"
      },
      "outputs": [],
      "source": [
        "# print from usa to china using example1\n",
        "# insert_code_here\n",
        "\n",
        "# print from canada to usa using example1\n",
        "# insert_code_here\n",
        "\n",
        "# print from china to japan using example1\n",
        "# insert_code_here\n",
        "\n",
        "# print china's and japan's emissions only (no country name) using example2\n",
        "# insert_code_here"
      ]
    },
    {
      "cell_type": "code",
      "execution_count": null,
      "metadata": {
        "id": "s92JAY3xeqHf",
        "outputId": "f85a8aaa-c095-42e1-da5e-124bdfab62cd"
      },
      "outputs": [
        {
          "data": {
            "text/plain": [
              "['7.06', '9.14']"
            ]
          },
          "execution_count": 13,
          "metadata": {},
          "output_type": "execute_result"
        }
      ],
      "source": [
        "# can do this better with a numpy array - but that's beyond the scope of this workshop\n",
        "\n",
        "import numpy as np\n",
        "\n",
        "matrix_2 = np.array(example_2)\n",
        "list(matrix_2[2:, 1])"
      ]
    },
    {
      "cell_type": "code",
      "execution_count": 21,
      "metadata": {
        "id": "K3AspHVBeqHf"
      },
      "outputs": [],
      "source": [
        "# print the index of a certain value in the list using .index() function\n",
        "# insert_code_here\n",
        "\n",
        "# change canada's emission from 15.3 to 16.3\n",
        "# insert_code_here\n",
        "\n",
        "# change Canada's entries to South Korea's emissions (12.9)\n",
        "# insert_code_here\n",
        "\n",
        "# print example1\n",
        "\n",
        "# add Canada's name and carbon emissions to the end of example_1\n",
        "# insert_code_here\n",
        "\n",
        "# print example1\n",
        "\n",
        "# use the del() function to delete south korea from the list\n",
        "# insert_code_here\n",
        "\n",
        "# print example1\n",
        "\n",
        "# use the sum() function to sum elements in carbon\n",
        "# insert_code_here\n",
        "\n",
        "# use the for loop to access elements in a list\n",
        "# insert_code_here"
      ]
    },
    {
      "cell_type": "markdown",
      "metadata": {
        "id": "3cEzkdbbeqHf"
      },
      "source": [
        "# Loops\n",
        "\n",
        "For Loops iterate through a set of steps. They are structured as such:\n",
        "\n",
        "     for x in y_list:\n",
        "\n",
        "       <do something>\n",
        "\n",
        "\n"
      ]
    },
    {
      "cell_type": "code",
      "execution_count": null,
      "metadata": {
        "id": "0PuMOEoReqHg",
        "outputId": "f4b30aa0-49ba-4a9f-edf0-d9a0076df949"
      },
      "outputs": [
        {
          "name": "stdout",
          "output_type": "stream",
          "text": [
            "88200\n",
            "111400\n",
            "32400\n",
            "78600\n"
          ]
        }
      ],
      "source": [
        "# sample loop 1\n",
        "\n",
        "for value in gdp:\n",
        "    print(value*2)"
      ]
    },
    {
      "cell_type": "code",
      "execution_count": null,
      "metadata": {
        "id": "m2zyLZtgeqHg",
        "outputId": "2267604a-071b-4dd5-f706-a40afc677c36"
      },
      "outputs": [
        {
          "name": "stdout",
          "output_type": "stream",
          "text": [
            "1716768900000\n",
            "24647417100000\n",
            "23101200000000\n",
            "4934861700000\n"
          ]
        }
      ],
      "source": [
        "# sample loop 2: more complex/useful\n",
        "population = [38929000, 442503000, 1426000000, 125569000]\n",
        "\n",
        "for i in range(len(population)):\n",
        "    print(population[i]*gdp[i])"
      ]
    },
    {
      "cell_type": "markdown",
      "metadata": {
        "id": "ydxxSV38hQee"
      },
      "source": [
        "## Dictionaries\n",
        "\n",
        "- hold key:value pairs\n",
        "- use curly brackets `{ }`\n",
        "- use `data['key']` to access value of a given key\n",
        "- can access keys with .keys() method\n",
        "- can access values with .values() method"
      ]
    },
    {
      "cell_type": "code",
      "source": [
        "simple_dict = {\"a\": 1, \"b\": 2}\n",
        "print(simple_dict.keys())\n",
        "print(simple_dict.values())"
      ],
      "metadata": {
        "colab": {
          "base_uri": "https://localhost:8080/"
        },
        "id": "OM64xbtwmuND",
        "outputId": "a424c2f0-e316-480f-c4c7-0329183a868c"
      },
      "execution_count": 17,
      "outputs": [
        {
          "output_type": "stream",
          "name": "stdout",
          "text": [
            "dict_keys(['a', 'b'])\n",
            "dict_values([1, 2])\n"
          ]
        }
      ]
    },
    {
      "cell_type": "code",
      "execution_count": 20,
      "metadata": {
        "id": "aahkTv-ohZoh"
      },
      "outputs": [],
      "source": [
        "# Let's say we want to access USA's emissions from the carbon list\n",
        "# But we don't know the index of USA in the country list \n",
        "\n",
        "# First access the index of USA from the country list\n",
        "# usa_index = insert_code_here\n",
        "\n",
        "\n",
        "# Access USA's emissions from the carbon list using this index number\n",
        "# insert_code_here\n",
        "\n",
        "\n",
        "# This method works but is not that efficient\n",
        "\n"
      ]
    },
    {
      "cell_type": "code",
      "execution_count": 18,
      "metadata": {
        "id": "znZS2s42h6JF"
      },
      "outputs": [],
      "source": [
        "# Define a dictionary called emissions\n",
        "# insert_code_here\n",
        "\n",
        "# print china's emissions\n",
        "# insert_code_here\n",
        "\n",
        "# add south korea (12.9) to the dictionary\n",
        "# insert_code_here\n",
        "\n",
        "# print emissions\n",
        "# insert_code_here\n",
        "\n",
        "# change south korea's emissions to 15\n",
        "# insert_code_here\n",
        "\n",
        "# print emissions \n",
        "# insert_code_here\n",
        "\n",
        "# use del() function to delete south korea from the dict\n",
        "# insert_code_here\n",
        "\n",
        "# print emissions\n",
        "# insert_code_here\n",
        "\n",
        "# create a nested dictionary called data containing GDP and carbon emissions\n",
        "# insert_code_here\n",
        "\n",
        "# print canada's carbon emissions\n",
        "# insert_code_here\n",
        "\n",
        "# add china (gdp = 16200, carbon = 7.06) to data\n",
        "# insert_code_here\n",
        "# insert_code_here\n",
        "\n",
        "# print data\n",
        "# insert_code_here\n",
        "\n",
        "# method 1 to use for loops with dictionaries to access each element\n",
        "# insert_code_here\n",
        "\n",
        "# method 2 to use for loops with dictionaries to access each element  \n",
        "# insert_code_here\n"
      ]
    },
    {
      "cell_type": "code",
      "execution_count": null,
      "metadata": {
        "id": "2_-RfNzQeqHh",
        "outputId": "beb40186-be90-4183-b1ea-d372f013d7ef"
      },
      "outputs": [
        {
          "data": {
            "text/plain": [
              "dict_keys(['canada', 'usa', 'china', 'japan'])"
            ]
          },
          "execution_count": 17,
          "metadata": {},
          "output_type": "execute_result"
        }
      ],
      "source": [
        "# accessing keys:\n",
        "\n",
        "emissions.keys()"
      ]
    },
    {
      "cell_type": "code",
      "execution_count": null,
      "metadata": {
        "id": "RPT4OhYmeqHh",
        "outputId": "4cd0d186-42fb-4ede-8817-06cde0d4931c"
      },
      "outputs": [
        {
          "data": {
            "text/plain": [
              "dict_values([15.3, 16.6, 7.06, 9.14])"
            ]
          },
          "execution_count": 31,
          "metadata": {},
          "output_type": "execute_result"
        }
      ],
      "source": [
        "# accesing values\n",
        "\n",
        "emissions.values()"
      ]
    },
    {
      "cell_type": "markdown",
      "metadata": {
        "id": "IFJO6vQZjEKf"
      },
      "source": [
        "## Functions"
      ]
    },
    {
      "cell_type": "code",
      "execution_count": 19,
      "metadata": {
        "id": "y_ln_HrvjG1V"
      },
      "outputs": [],
      "source": [
        "# Define a function called my_function that prints \"Hello [name]. Welcome to class today!\"\n",
        "# insert_code_here\n",
        "  \n",
        "# Pass your name to the function you just defined\n",
        "# insert_code_here\n",
        "\n",
        "# Modify my_function so that it prints out first and last names\n",
        "# insert_code_here\n",
        "  \n",
        "# Pass your first and last names to the function you just defined\n",
        "# insert_code_here\n",
        "\n",
        "# Create a function called add_function that takes 2 arguments and prints their sum\n",
        "# insert_code_here\n",
        "\n",
        "# Try passing 20 and 22 into add_function and check if you get 42\n",
        "# insert_code_here\n"
      ]
    },
    {
      "cell_type": "markdown",
      "metadata": {
        "id": "XYL1w9wWHktN"
      },
      "source": [
        "# Exercise\n",
        "\n",
        "Kim has been asked to use Python to analyze the following dataset.\n",
        "\n",
        "![casestudy.png](data:image/png;base64,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)\n",
        "\n",
        "- Create one or more Python \"dictionaries\" for all data in the above table (Hint: You can use nested dictionaries for the fruits and quantity/rejected, and use lists to hold the values)\n",
        "- Print fruit dictionary\n",
        "- Print the sum of all \"Orange\" Total Quantity and sum of all \"Orange\" Quantity Rejected\n",
        "- Calculate and print the rejection rate for \"Orange\"\n",
        "- Calculate and print the maximum of \"Orange\" Total Quantity (Hint: use `max()` function)\n"
      ]
    },
    {
      "cell_type": "code",
      "source": [
        "# create fruit dictionary\n",
        "\n",
        "# fruit = {'insert_code_here': {'insert_code_here': insert_code_here,\n",
        "#                      'insert_code_here': insert_code_here},\n",
        "#          'insert_code_here': {'quantity': insert_code_here,\n",
        "#                      'rejected': insert_code_here}}\n",
        "\n",
        "fruit = {\"oranges\": {\"quantity\": [3000, 6000, 12000],\n",
        "                    \"rejected\": [1400, 3500, 6700]},\n",
        "         \"bananas\": {\"quantity\": [500, 3000, 15000],\n",
        "                     \"rejected\": [700, 1750, 3350]} }\n",
        "\n",
        "# print fruit dictionary\n",
        "# insert_code_here\n",
        "\n",
        "\n",
        "# print the sum of all \"Orange\" Total Quantity\n",
        "# print(\"Quantity = \", insert_code_here)\n",
        "\n",
        "\n",
        "# print the sum of all \"Orange\" Total Rejected\n",
        "\n",
        "\n",
        "# print(\"Quantity = \", insert_code_here)\n",
        "\n",
        "\n",
        "# calculate and print the rejection rate for \"Orange\" \n",
        "# use round() to round to 2 decimal places only\n",
        "\n",
        "\n",
        "print(\"Orange rejection rate = \", round(orange_rejrate, 2))\n",
        "\n",
        "# calculate and print max of \"Orange\" total quantity\n",
        "print(\"Orange max qty: \", max(fruit[\"oranges\"][\"quantity\"]))"
      ],
      "metadata": {
        "id": "CL4WQG0PneXr"
      },
      "execution_count": null,
      "outputs": []
    },
    {
      "cell_type": "markdown",
      "metadata": {
        "id": "2UfP7G4peqHi"
      },
      "source": [
        "# Harry's Challenges\n",
        "\n",
        "I've made some additions to Krisha's original workshop - a number of coding problems for you to work on. I'll have office hours on Tuesday and Thursday to help you with these. They are not mandatory, but recommended. Applying concepts with coding is the only way to really learn them.\n",
        "\n",
        "They may be too difficult or easy depending on your experience level. If they're hard, come to office hours for help. I struggled on the median calculator quite a bit, so don't stress yourself out."
      ]
    },
    {
      "cell_type": "markdown",
      "metadata": {
        "id": "CS32JBLTeqHi"
      },
      "source": [
        "# 1. List Arithmetic\n",
        "\n",
        "We've defined the lists `country`, `carbon`, and `gdp`. You can perform addition, multiplication, or any other mathematical operation with the elements of lists. Can you write a for loop that prints each GDP value divided by the Carbon value with the same index? Try to make it generalizable - so if we add a country's data to each list, you can still run the same loop and make all the calculations.\n",
        "\n",
        "I'll suggest a few functions that might be useful.\n",
        "\n",
        "The `len()` function takes an object and returns a number equal to how many elements it has. \n",
        "\n",
        "The `range()` function takes a number, and creates a range of that many integers starting at 0 and counting up.\n",
        "\n",
        "So, range(6) would return 0, 1, 2, 3, 4, and 5. You can iterate through a range using a for loop. "
      ]
    },
    {
      "cell_type": "code",
      "execution_count": null,
      "metadata": {
        "id": "e6UjVrNkeqHi",
        "outputId": "048df28e-fc2e-4020-903a-b508a57ac44a"
      },
      "outputs": [
        {
          "name": "stdout",
          "output_type": "stream",
          "text": [
            "0\n",
            "1\n",
            "2\n",
            "3\n",
            "4\n",
            "5\n"
          ]
        }
      ],
      "source": [
        "for i in range(6):\n",
        "    print(i)"
      ]
    },
    {
      "cell_type": "code",
      "execution_count": null,
      "metadata": {
        "id": "SWZaCl3meqHi",
        "outputId": "614f844f-125e-471f-8f83-c0adaacc9139"
      },
      "outputs": [
        {
          "data": {
            "text/plain": [
              "3355.4216867469877"
            ]
          },
          "execution_count": 22,
          "metadata": {},
          "output_type": "execute_result"
        }
      ],
      "source": [
        "gdp[1]/carbon[1]"
      ]
    },
    {
      "cell_type": "code",
      "execution_count": null,
      "metadata": {
        "id": "iFi3LzOYeqHj",
        "outputId": "feb1c180-6979-4c05-cb0a-8c4d4e6a4364"
      },
      "outputs": [
        {
          "name": "stdout",
          "output_type": "stream",
          "text": [
            "3418.6046511627906\n",
            "3355.4216867469877\n",
            "2294.6175637393767\n",
            "4299.781181619256\n"
          ]
        }
      ],
      "source": [
        "# answer\n",
        "\n",
        "for i in range(len(country)):\n",
        "    print(gdp[i]/carbon[i])"
      ]
    },
    {
      "cell_type": "markdown",
      "metadata": {
        "id": "HWoIM0QmeqHj"
      },
      "source": [
        "# 2. Mean calculator\n",
        "\n",
        "~~Create a calculator that returns unkind comments.~~\n",
        "\n",
        "Ahem.\n",
        "\n",
        "Create a function called `calculate_mean()`, which takes a list of numbers and returns the mean. You can do this either with a loop iterating through the elements, or mathematical functions.\n",
        "\n",
        "As a reminder, the mean of a data series is equal to the sum of its elements, divided by the number of elements. So, the mean of the series [1, 2, 3, 4, 5, 6] is equal to (1+2+3+4+5+6)/6 = 3.\n",
        "\n",
        "![title](images/mean.png)"
      ]
    },
    {
      "cell_type": "code",
      "execution_count": null,
      "metadata": {
        "id": "D1E5W5xoeqHj"
      },
      "outputs": [],
      "source": [
        "# answer\n",
        "\n",
        "def calculate_mean(list):\n",
        "    \"\"\"\n",
        "    Code a loop that sums the values in `list`, divides by how many values it has,\n",
        "    assigns this to `mean`, and then returns `mean`\n",
        "    \"\"\"\n",
        "        \n",
        "    mean = \n",
        "    return mean"
      ]
    },
    {
      "cell_type": "markdown",
      "metadata": {
        "id": "SPmOgiWKeqHj"
      },
      "source": [
        "### Mean Calculator Tests"
      ]
    },
    {
      "cell_type": "code",
      "execution_count": null,
      "metadata": {
        "id": "Itx8Eyg7eqHj",
        "outputId": "9fdf0222-ad61-441e-8223-f9d4c2beabfb"
      },
      "outputs": [
        {
          "data": {
            "text/plain": [
              "3.5"
            ]
          },
          "execution_count": 25,
          "metadata": {},
          "output_type": "execute_result"
        }
      ],
      "source": [
        "# this should return 3.5\n",
        "calculate_mean([1, 2, 3, 4, 5, 6])"
      ]
    },
    {
      "cell_type": "code",
      "execution_count": null,
      "metadata": {
        "id": "MpZquJeneqHj",
        "outputId": "3370dda7-9c1a-446f-dec2-fcc295c26612"
      },
      "outputs": [
        {
          "data": {
            "text/plain": [
              "-6891.0"
            ]
          },
          "execution_count": 38,
          "metadata": {},
          "output_type": "execute_result"
        }
      ],
      "source": [
        "# this should return -6891.0\n",
        "calculate_mean([100, 200, -129321, 122, 94444])"
      ]
    },
    {
      "cell_type": "markdown",
      "metadata": {
        "id": "-PP8u4NueqHk"
      },
      "source": [
        "# 3. Bond Value Calculator\n",
        "\n",
        "Say that the government raises money with bonds that cost $100 now, grow at an interest rate of 5% per year, and are repaid in 10 years. How much would one of these be worth then?\n",
        "\n",
        "Credit to [Quantecon Datascience](https://datascience.quantecon.org/python_fundamentals/control_flow.html#ex2-3) for inspiring this with a similar exercise."
      ]
    },
    {
      "cell_type": "code",
      "execution_count": null,
      "metadata": {
        "id": "BCQB3XO4eqHk"
      },
      "outputs": [],
      "source": [
        "# answer\n",
        "# fill in the equation for the bond's return as `mature_value`\n",
        "\n",
        "mature_value = \n",
        "print(\"The bond is paid off at: \", mature_value)"
      ]
    },
    {
      "cell_type": "markdown",
      "metadata": {
        "id": "g1GEAgM2eqHk"
      },
      "source": [
        "Now extend this. Create `bond_calculator()`, a function that takes a principal amount, an interest rate, and a number of years, and returns how much the bond returns at maturity."
      ]
    },
    {
      "cell_type": "code",
      "execution_count": null,
      "metadata": {
        "id": "Jywu0M3yeqHk"
      },
      "outputs": [],
      "source": [
        "# answer\n",
        "\n",
        "def bond_calculator(principal, interest, years):\n",
        "    maturity = #calculate return\n",
        "    return maturity"
      ]
    },
    {
      "cell_type": "markdown",
      "metadata": {
        "id": "_jwWlOvoeqHk"
      },
      "source": [
        "### Bond Calculator Tests"
      ]
    },
    {
      "cell_type": "code",
      "execution_count": null,
      "metadata": {
        "id": "krXf58B6eqHk",
        "outputId": "41ca8da7-f6c5-4164-b3d5-f72f3ce24dd0"
      },
      "outputs": [
        {
          "data": {
            "text/plain": [
              "162.8894626777442"
            ]
          },
          "execution_count": 28,
          "metadata": {},
          "output_type": "execute_result"
        }
      ],
      "source": [
        "# this should return 162.8894626777442\n",
        "bond_calculator(100, 0.05, 10)"
      ]
    },
    {
      "cell_type": "code",
      "execution_count": null,
      "metadata": {
        "id": "OWqTObE0eqHk",
        "outputId": "44594712-b53f-4b24-a750-cd92787556f0"
      },
      "outputs": [
        {
          "data": {
            "text/plain": [
              "13150.125784630402"
            ]
          },
          "execution_count": 29,
          "metadata": {},
          "output_type": "execute_result"
        }
      ],
      "source": [
        "# this should return 13150.125784630402\n",
        "bond_calculator(100, 0.05, 100)"
      ]
    },
    {
      "cell_type": "code",
      "execution_count": null,
      "metadata": {
        "id": "U9dKWS4HeqHk",
        "outputId": "34108536-4457-4a01-99f0-6fa435ee38be"
      },
      "outputs": [
        {
          "data": {
            "text/plain": [
              "132654.2344955023"
            ]
          },
          "execution_count": 30,
          "metadata": {},
          "output_type": "execute_result"
        }
      ],
      "source": [
        "# this should return 132654.2344955023\n",
        "bond_calculator(50, 0.59, 17)"
      ]
    },
    {
      "cell_type": "markdown",
      "metadata": {
        "id": "IFM47YNKeqHk"
      },
      "source": [
        "# 4. (Very) Big Challenge: Median calculator\n",
        "\n",
        "![title](images/median.png)\n",
        "\n",
        "The median of a series is the middlemost ordered value (if there's an odd number of elements) or the average of the two middlemost ordered values (if there is an even number of elements). \n",
        "\n",
        "For example, the series [1, 2, 3, 4, 1000000] has 5 elements, and the middlemost must be the third. Therefore the median is 3. \n",
        "\n",
        "In the series [1, 2, 100, 200], the median is (2+100)/2 = 51.\n",
        "\n",
        "Create a function called `calculate_median()` that takes a list of numbers and returns the median.\n",
        "\n",
        "This is a big leap in difficulty from the others, so I'll help you out a bit. Some methods and functions that will be useful:\n",
        "\n",
        "- the `sort()` function is called after a list of numbers, and sorts the list into ascending ascending order. \n",
        "- the `math` module's `floor()` function returns the greatest integer not greater than the value input\n",
        "- from the same module, the `ceil()` function returns the integer you'd get from rounding up the input\n",
        "\n",
        "These will help you find the middle (or two middlemost) numbers.\n",
        "\n",
        "This took me more time than I'd like to admit, so view it as a stretch goal if you've got time and feel comfortable. Not mandatory!"
      ]
    },
    {
      "cell_type": "code",
      "execution_count": null,
      "metadata": {
        "id": "T12vLIaGeqHl",
        "outputId": "6caea6f7-e63e-4359-bd63-7dc97d0a8a6d"
      },
      "outputs": [
        {
          "data": {
            "text/plain": [
              "[1, 2, 2, 4, 5, 7, 1000, 90000]"
            ]
          },
          "execution_count": 31,
          "metadata": {},
          "output_type": "execute_result"
        }
      ],
      "source": [
        "# demonstration of .sort()\n",
        "\n",
        "ex_list = [1, 4, 2, 5, 7, 2, 1000, 90000]\n",
        "ex_list.sort()\n",
        "ex_list\n",
        "# now `ex_list` is in ascending order"
      ]
    },
    {
      "cell_type": "code",
      "execution_count": null,
      "metadata": {
        "id": "vgdGMm9_eqHl",
        "outputId": "41111412-70fa-4196-c967-78e270d27139"
      },
      "outputs": [
        {
          "name": "stdout",
          "output_type": "stream",
          "text": [
            "2\n",
            "2\n",
            "2\n",
            "2\n",
            "2\n"
          ]
        }
      ],
      "source": [
        "# demonstration of floor()\n",
        "from math import floor\n",
        "\n",
        "print(floor(2.5))\n",
        "print(floor(2.9))\n",
        "print(floor(2.1))\n",
        "print(floor(2))\n",
        "print(floor(1.9999999999999999999999999999999999999999))"
      ]
    },
    {
      "cell_type": "code",
      "execution_count": null,
      "metadata": {
        "id": "4DWcB3XoeqHl",
        "outputId": "2b40a97a-eac7-422a-86c5-5e9814bf4a1c"
      },
      "outputs": [
        {
          "name": "stdout",
          "output_type": "stream",
          "text": [
            "3\n",
            "3\n",
            "3\n",
            "2\n",
            "2\n"
          ]
        }
      ],
      "source": [
        "# demonstration of ceil()\n",
        "from math import ceil\n",
        "\n",
        "print(ceil(2.5))\n",
        "print(ceil(2.9))\n",
        "print(ceil(2.1))\n",
        "print(ceil(2))\n",
        "print(ceil(1.9999999999999999999999999999999999999999))"
      ]
    },
    {
      "cell_type": "markdown",
      "metadata": {
        "id": "ERVRhF6peqHl"
      },
      "source": [
        "This is also a good time to use the modulo operator, which returns the remainder of a division operation. \n",
        "\n",
        "If a number X can divide by 2 without a remainder, this is equivalent to X modulo 2 = 0, and equivalent to it being even.\n",
        "\n",
        "If a number X cannot divide by 2 without a remainder, this is equivalent to X modulo 2 != 0, and equivalent to it not being even. In other words, X is odd."
      ]
    },
    {
      "cell_type": "code",
      "execution_count": null,
      "metadata": {
        "id": "-PLZNNqXeqHl",
        "outputId": "80df00c0-1095-4d8d-bb17-74c31819f6a2"
      },
      "outputs": [
        {
          "name": "stdout",
          "output_type": "stream",
          "text": [
            "1\n",
            "False\n",
            "0\n",
            "True\n"
          ]
        }
      ],
      "source": [
        "# the remainder of 3/2 is not 0, therefore 3 is not an even number\n",
        "print(3 % 2)\n",
        "print((3 % 2) == 0)\n",
        "\n",
        "# the remainder of 4/2 is 0, therefore 4 is an even number\n",
        "print(4 % 2)\n",
        "print((4 % 2) == 0)"
      ]
    },
    {
      "cell_type": "code",
      "execution_count": null,
      "metadata": {
        "id": "GVvKcDT6eqHl"
      },
      "outputs": [],
      "source": [
        "# answer\n",
        "\n",
        "def calculate_median(value_list):\n",
        "    \"\"\" \n",
        "    Takes `value_list` and finds the median.\n",
        "    \n",
        "    You'll want to create a conditional loop for a case when `value_list`\n",
        "    has an even number of elements, and a different one for when it's odd.\n",
        "    \n",
        "    Remember that python accesses list elements indexing from 0. So in \n",
        "    a list with 5 elements, they are 0, 1, 2, 3, and 4, so the middle\n",
        "    would be [2].\n",
        "    \"\"\"\n",
        "\n",
        "    \n",
        "        # odd case\n",
        "    if #list length is odd:\n",
        "        \n",
        "        median = #find middle value\n",
        "        return median\n",
        "    \n",
        "    # if not odd must be even, therefore:\n",
        "    else:\n",
        "        \n",
        "        median = #average of two middlemost values\n",
        "        return median"
      ]
    },
    {
      "cell_type": "markdown",
      "metadata": {
        "id": "AFMYUUoueqHm"
      },
      "source": [
        "### Median Calculator Tests"
      ]
    },
    {
      "cell_type": "code",
      "execution_count": null,
      "metadata": {
        "id": "se6Uu5bTeqHm",
        "outputId": "214a4227-687d-4625-ad51-09263f607a77"
      },
      "outputs": [
        {
          "data": {
            "text/plain": [
              "3"
            ]
          },
          "execution_count": 11,
          "metadata": {},
          "output_type": "execute_result"
        }
      ],
      "source": [
        "# this should return 3\n",
        "calculate_median([1, 2, 3, 4, 5])"
      ]
    },
    {
      "cell_type": "code",
      "execution_count": null,
      "metadata": {
        "id": "NYcyb2cmeqHm",
        "outputId": "f6fb4c2c-b64d-4c2f-d9d8-0d6cc535c83c"
      },
      "outputs": [
        {
          "data": {
            "text/plain": [
              "3.5"
            ]
          },
          "execution_count": 12,
          "metadata": {},
          "output_type": "execute_result"
        }
      ],
      "source": [
        "# this should return 3.5\n",
        "calculate_median([1, 6, 4, 3, 5, 2])"
      ]
    },
    {
      "cell_type": "code",
      "execution_count": null,
      "metadata": {
        "id": "GvIijPT4eqHm",
        "outputId": "33b35e85-5406-46c9-feed-d61491945b0a"
      },
      "outputs": [
        {
          "data": {
            "text/plain": [
              "5.5"
            ]
          },
          "execution_count": 13,
          "metadata": {},
          "output_type": "execute_result"
        }
      ],
      "source": [
        "# this should return 5.5\n",
        "calculate_median([10000000, 3, 2, 4, 9, 6, 7, 8, 5, 1])"
      ]
    },
    {
      "cell_type": "code",
      "execution_count": null,
      "metadata": {
        "id": "kd9A9Ru7eqHm",
        "outputId": "f9152295-30ed-456e-e042-767e3f183f4e"
      },
      "outputs": [
        {
          "data": {
            "text/plain": [
              "5"
            ]
          },
          "execution_count": 14,
          "metadata": {},
          "output_type": "execute_result"
        }
      ],
      "source": [
        "# this should return 5\n",
        "calculate_median([1, 9, 3, 4, 6, 5, 7, 2, 8])"
      ]
    },
    {
      "cell_type": "code",
      "execution_count": null,
      "metadata": {
        "id": "Whxd8lbneqHm"
      },
      "outputs": [],
      "source": []
    }
  ],
  "metadata": {
    "colab": {
      "collapsed_sections": [],
      "provenance": []
    },
    "kernelspec": {
      "display_name": "Python 3.10.8 64-bit (microsoft store)",
      "language": "python",
      "name": "python3"
    },
    "language_info": {
      "codemirror_mode": {
        "name": "ipython",
        "version": 3
      },
      "file_extension": ".py",
      "mimetype": "text/x-python",
      "name": "python",
      "nbconvert_exporter": "python",
      "pygments_lexer": "ipython3",
      "version": "3.10.8"
    },
    "vscode": {
      "interpreter": {
        "hash": "1fe7e41c9bb0b147e1ac01489d9b996242ca02dfd918f083681118eb31588365"
      }
    }
  },
  "nbformat": 4,
  "nbformat_minor": 0
}